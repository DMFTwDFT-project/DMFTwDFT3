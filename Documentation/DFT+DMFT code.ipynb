{
 "cells": [
  {
   "cell_type": "markdown",
   "metadata": {},
   "source": [
    "# DFT + DMFT code\n",
    "## *Hyowon Park*\n",
    "\n",
    "\n",
    "## Introduction\n",
    "This package will perform DFT+DMFT calculations using free DFT codes (VASP) for now. \n",
    "\n",
    "The file structure for the program is as follows. \n",
    "\n",
    "![tree](tree.png)\n"
   ]
  },
  {
   "cell_type": "markdown",
   "metadata": {},
   "source": [
    "## Procedure:"
   ]
  },
  {
   "cell_type": "markdown",
   "metadata": {},
   "source": [
    "1. Compile /fortran/ksum\n",
    "\n",
    "    Creates executables, dmft_ksum, dmft_ksum_sp\n",
    "    The following is a sample of the makefile used"
   ]
  },
  {
   "cell_type": "code",
   "execution_count": 1,
   "metadata": {},
   "outputs": [
    {
     "ename": "SyntaxError",
     "evalue": "invalid syntax (<ipython-input-1-2c5c09eb3b4f>, line 4)",
     "output_type": "error",
     "traceback": [
      "\u001b[0;36m  File \u001b[0;32m\"<ipython-input-1-2c5c09eb3b4f>\"\u001b[0;36m, line \u001b[0;32m4\u001b[0m\n\u001b[0;31m    CFLAGS = $(PFLAGS) -O3 -DAS #-xSSE4.2 not for AMD\u001b[0m\n\u001b[0m             ^\u001b[0m\n\u001b[0;31mSyntaxError\u001b[0m\u001b[0;31m:\u001b[0m invalid syntax\n"
     ]
    }
   ],
   "source": [
    "\n",
    "F77 = mpiifort\n",
    "PFLAGS = -D_MPI -DMPICH_IGNORE_CXX_SEEK\n",
    "CFLAGS = $(PFLAGS) -O3 -DAS #-xSSE4.2 not for AMD\n",
    "FFLAGS = -O2 -xhost\n",
    "\n",
    "MKLROOT=$MKLROOT\n",
    "PLIBS=-L$(MKLROOT)/lib/intel64/ \\\n",
    "    -Wl,--start-group \\\n",
    "    -lmkl_intel_lp64 -lmkl_sequential -lmkl_core \\\n",
    "    -Wl,--end-group -lpthread -lm\n",
    "LIBS = $(PLIBS)\n",
    "\n",
    "#all : cmp_mu cmp_mu_sp dmft_ksum dmft_ksum_up dmft_ksum_dn\n",
    "all : dmft_ksum_sp dmft_ksum \n",
    "\n",
    "cmp_mu : cmp_mu.f\n",
    "\t$(F77) $(FFLAGS) -o $@ cmp_mu.f $(LIBS)\n",
    "\n",
    "dmft_ksum_sp : dmft_ksum_sp.f\n",
    "\t$(F77) $(FFLAGS) -o $@ dmft_ksum_sp.f $(LIBS)\n",
    "dmft_ksum : dmft_ksum.f\n",
    "\t$(F77) $(FFLAGS) -o $@ dmft_ksum.f $(LIBS)\n",
    "\n",
    "clean :\n",
    "\trm -f cmp_mu dmft_ksum dmft_ksum_sp \n",
    "\n",
    "\n",
    ".SUFFIXES : .cc\n",
    ".cc.o:\n",
    "\t$(PC++) $(CFLAGS) -c $<\n",
    "\n",
    ".SUFFIXES : .f\n",
    ".f.o:\n",
    "\t$(F77) $(FFLAGS) -c $<\n",
    "\n"
   ]
  },
  {
   "cell_type": "code",
   "execution_count": null,
   "metadata": {},
   "outputs": [],
   "source": [
    "> make all"
   ]
  },
  {
   "cell_type": "markdown",
   "metadata": {},
   "source": [
    "Copy the executables to /bin/ "
   ]
  },
  {
   "cell_type": "markdown",
   "metadata": {},
   "source": [
    "2.Compile /fortran/atomd\n",
    "\n",
    "atom_d.py creates actqmc.cix file for ctqmc input. \n",
    "\n",
    "Compiling gives gaunt.so, gutils.so (shared objects)\n",
    "\n",
    "\n",
    "\n",
    "Use the following Makefile.in"
   ]
  },
  {
   "cell_type": "code",
   "execution_count": null,
   "metadata": {},
   "outputs": [],
   "source": [
    "# Please set environment variable WIEN_DMFT_ROOT (in ~/.bashrc) to the same path as DESTDIR in this Makefile\n",
    "DESTDIR = $(WIEN_DMFT_ROOT)\n",
    "\n",
    "F90 = ifort \n",
    "F77 = ifort\n",
    "preproc = fpp\n",
    "\n",
    "WFOPT  = -ansi-alias -O2 -FR -override-limits -prec-div -openmp #-O3 -FR -override-limits -openmp -mp1 -w -prec_div -pc80 -pad -DINTEL_VML -mavx \n",
    "FFLAGS = -ansi-alias -O2 -fPIC -prec-div -openmp #-O3 -fPIC -O3 -openmp -mavx -no-prec-div\n",
    "F2PL =\n",
    "\n",
    "C++ = icpc # C++ compiler\n",
    "OFLAGS = -O3 -fopenmp # optimization\n",
    "GFLAGS = -g -C -fopenmp # debugging\n",
    "\n",
    "F2PY_LAPACK = --link-lapack_opt\n",
    "\n",
    "##-------------------- PARALLEL VERSION\n",
    "#PF90 = /opt/mpich2/intel/11.1/bin/mpif90 #   /opt/mpich2-intel-10.1/bin/mpif90\n",
    "#WLDFLAGS = -i-static $(FOPT) -L/opt/intel/Compiler/11.1/072/mkl/lib/em64t/ -L/usr/lib64 -pthread \n",
    "#WLIBS = -L/opt/intel/Compiler/11.1/072/mkl/lib/em64t/ -lmkl_lapack -lmkl_intel_lp64 -lmkl_intel_thread -lguide -lmkl_core -lpthread # -lmkl_lapack -lmkl -lguide -L/usr/lib64 -pthread\n",
    "\n",
    "PF90 = mpiifort #mpif90 #   /opt/mpich2-intel-10.1/bin/mpif90\n",
    "WLDFLAGS = -mkl $(FOPT)  -L/usr/lib64 -pthread \n",
    "WLIBS = -mkl\n",
    "\n",
    "Fmpi_define = -DMPI\n",
    "CMP = f2py --fcompiler=intelem # fortran to python converter\n",
    "CMPLIBS = --opt='-fast' --link-lapack_opt\n",
    "CMPLIBS2 = --f90flags='-openmp ' --opt='-fast' --link-lapack_opt\n",
    "#PFLAGS = -D_MPI -DMPICH_IGNORE_CXX_SEEK -restrict -ipo -no-prec-div -O2\n",
    "GSL_INC=/export/home/hyowon/Codes/gsl/include/\n",
    "PFLAGS = -D_MPI -DMPICH_IGNORE_CXX_SEEK -O3 -I$(GSL_INC) -I$(GSL_INC)/gsl\n",
    "#\n",
    "#\n",
    "# PC++ = /opt/mpich2/intel/11.1/bin/mpicxx -xHOST -O3 -ipo -no-prec-div  # mpicxx # parallel compilers\n",
    "PC++ = mpicxx\n",
    "pcc = mpicc # mpicc # parallel compilers\n",
    "#\n",
    "#PLIBS = -mkl -L/usr/lib64 -pthread -L/export/home/hyowon/Codes/gsl/lib/ -lgsl -lgslcblas\n",
    "PLIBS = -mkl -L$(MKLROOT)/lib/intel64 -lmkl_intel_lp64 -lmkl_sequential -lmkl_core -lpthread -L/usr/lib64 -pthread -L/export/home/hyowon/Codes/gsl/lib/ -lgsl -lgslcblas\n",
    "LLIBS = -L$(MKLROOT)/lib/intel64 -lmkl_intel_lp64 -lmkl_sequential -lmkl_core -lpthread -L/usr/lib64 -pthread\n",
    "\n",
    "\n",
    "#-------------------- SINGLE PROCESSOR VERSION\n",
    "#PF90 = ifort\n",
    "#Fmpi_define = \n",
    "#CMP = f2py --fcompiler=intel # fortran to python converter\n",
    "#WLDFLAGS = $(FOPT) -L/opt/intel/mkl/10.0.011/lib/32 \n",
    "#WLIBS = -lmkl_lapack -lmkl -lguide -pthread\n",
    "#\n",
    "#PC++ = mpicxx # g++ # parallel compilers\n",
    "#pcc = gcc # parallel compilers\n",
    "#\n",
    "#PLIBS = -L/opt/intel/mkl/10.0.1.014/lib/32 -lmkl_lapack -lmkl -lguide -lgsl -pthread\n",
    "#LLIBS = -L/opt/intel/mkl/10.0.1.014/lib/32 -lmkl_lapack -lmkl -lguide -pthread\n"
   ]
  },
  {
   "cell_type": "code",
   "execution_count": null,
   "metadata": {},
   "outputs": [],
   "source": [
    ">make all"
   ]
  },
  {
   "cell_type": "markdown",
   "metadata": {},
   "source": [
    "Copy the executables to /bin/"
   ]
  },
  {
   "cell_type": "code",
   "execution_count": null,
   "metadata": {},
   "outputs": [],
   "source": []
  }
 ],
 "metadata": {
  "kernelspec": {
   "display_name": "Python 2",
   "language": "python",
   "name": "python2"
  },
  "language_info": {
   "codemirror_mode": {
    "name": "ipython",
    "version": 3
   },
   "file_extension": ".py",
   "mimetype": "text/x-python",
   "name": "python",
   "nbconvert_exporter": "python",
   "pygments_lexer": "ipython3",
   "version": "3.5.2"
  }
 },
 "nbformat": 4,
 "nbformat_minor": 2
}
