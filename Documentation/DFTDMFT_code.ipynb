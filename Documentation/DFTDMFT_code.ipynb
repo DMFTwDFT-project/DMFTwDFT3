{
 "cells": [
  {
   "cell_type": "markdown",
   "metadata": {},
   "source": [
    "# DMFTwDFT\n",
    "\n",
    "\n",
    "## Introduction\n",
    "This package will perform DFT+DMFT calculations using free DFT codes (VASP for now). <br>\n",
    "The file structure for the program is as follows."
   ]
  },
  {
   "cell_type": "markdown",
   "metadata": {},
   "source": [
    "![image](tree.png)"
   ]
  },
  {
   "cell_type": "markdown",
   "metadata": {},
   "source": [
    "## Prerequisites\n",
    "\n",
    "* gsl\n",
    "* f2py \n",
    "* numpy\n",
    "* seekpath\n",
    "* wannier90 (recompile vasp with this)\n",
    "* Intel compilers (OPTIONAL)  \n",
    "    -make sure you have the environmental variable **$MKLROOT** set to your mkl library location"
   ]
  },
  {
   "cell_type": "markdown",
   "metadata": {},
   "source": [
    "## Setting up DMFT\n",
    "\n"
   ]
  },
  {
   "cell_type": "markdown",
   "metadata": {},
   "source": [
    "### 1. Compile ksum\n",
    "   \n",
    "ksum is the module for achieving DMFT self-consistency. It performs the k-point sum and computes the local Green's function and hybridization function Delta.inp\n",
    "\n",
    "More details can be found in the following paper (Appendix B) <br>\n",
    "https://journals.aps.org/prb/pdf/10.1103/PhysRevB.90.235103\n",
    "\n",
    " \n",
    "The following is the **Makefile** used. Set your desired compilers. "
   ]
  },
  {
   "cell_type": "code",
   "execution_count": null,
   "metadata": {},
   "outputs": [],
   "source": [
    "F77 = mpiifort\n",
    "PFLAGS = -D_MPI -DMPICH_IGNORE_CXX_SEEK\n",
    "CFLAGS = $(PFLAGS) -O3 -DAS #-xSSE4.2 not for AMD\n",
    "FFLAGS = -O2 -xhost\n",
    "\n",
    "MKLROOT=$MKLROOT\n",
    "PLIBS=-L$(MKLROOT)/lib/intel64/ \\\n",
    "    -Wl,--start-group \\\n",
    "    -lmkl_intel_lp64 -lmkl_sequential -lmkl_core \\\n",
    "    -Wl,--end-group -lpthread -lm\n",
    "LIBS = $(PLIBS)\n",
    "\n",
    "#all : cmp_mu cmp_mu_sp dmft_ksum dmft_ksum_up dmft_ksum_dn\n",
    "all : dmft_ksum_sp dmft_ksum \n",
    "\n",
    "cmp_mu : cmp_mu.f\n",
    "\t$(F77) $(FFLAGS) -o $@ cmp_mu.f $(LIBS)\n",
    "\n",
    "dmft_ksum_sp : dmft_ksum_sp.f\n",
    "\t$(F77) $(FFLAGS) -o $@ dmft_ksum_sp.f $(LIBS)\n",
    "dmft_ksum : dmft_ksum.f\n",
    "\t$(F77) $(FFLAGS) -o $@ dmft_ksum.f $(LIBS)\n",
    "\n",
    "clean :\n",
    "\trm -f cmp_mu dmft_ksum dmft_ksum_sp \n",
    "\n",
    "\n",
    ".SUFFIXES : .cc\n",
    ".cc.o:\n",
    "\t$(PC++) $(CFLAGS) -c $<\n",
    "\n",
    ".SUFFIXES : .f\n",
    ".f.o:\n",
    "\t$(F77) $(FFLAGS) -c $<\n",
    "\n"
   ]
  },
  {
   "cell_type": "markdown",
   "metadata": {},
   "source": [
    "Compile it. "
   ]
  },
  {
   "cell_type": "code",
   "execution_count": null,
   "metadata": {},
   "outputs": [],
   "source": [
    "> make all"
   ]
  },
  {
   "cell_type": "markdown",
   "metadata": {},
   "source": [
    "This creates the executable **dmft_ksum_sp**. Copy this along with **fort_kpt_tools.f** to the **/bin** directory. "
   ]
  },
  {
   "cell_type": "markdown",
   "metadata": {},
   "source": [
    "### 2. Configure Makefile.in\n",
    "\n",
    "This file is located in the root directory. It will be used to compile both atomd and ctqmc. <br>\n",
    "Set your desired compilers and GSL_INC,GSL_LIBS depending on your gsl installation.  "
   ]
  },
  {
   "cell_type": "code",
   "execution_count": null,
   "metadata": {},
   "outputs": [],
   "source": [
    "# Please set environment variable WIEN_DMFT_ROOT (in ~/.bashrc) to the same path as DESTDIR in this Makefile\n",
    "DESTDIR = $(WIEN_DMFT_ROOT)\n",
    "\n",
    "F90 = ifort \n",
    "F77 = ifort\n",
    "preproc = fpp\n",
    "\n",
    "WFOPT  = -ansi-alias -O2 -FR -override-limits -prec-div -openmp #-O3 -FR -override-limits -openmp -mp1 -w -prec_div -pc80 -pad -DINTEL_VML -mavx \n",
    "FFLAGS = -ansi-alias -O2 -fPIC -prec-div -openmp #-O3 -fPIC -O3 -openmp -mavx -no-prec-div\n",
    "F2PL =\n",
    "\n",
    "C++ = icpc # C++ compiler\n",
    "OFLAGS = -O3 -fopenmp # optimization\n",
    "GFLAGS = -g -C -fopenmp # debugging\n",
    "\n",
    "F2PY_LAPACK = --link-lapack_opt\n",
    "\n",
    "##-------------------- PARALLEL VERSION\n",
    "#PF90 = /opt/mpich2/intel/11.1/bin/mpif90 #   /opt/mpich2-intel-10.1/bin/mpif90\n",
    "#WLDFLAGS = -i-static $(FOPT) -L/opt/intel/Compiler/11.1/072/mkl/lib/em64t/ -L/usr/lib64 -pthread \n",
    "#WLIBS = -L/opt/intel/Compiler/11.1/072/mkl/lib/em64t/ -lmkl_lapack -lmkl_intel_lp64 -lmkl_intel_thread -lguide -lmkl_core -lpthread # -lmkl_lapack -lmkl -lguide -L/usr/lib64 -pthread\n",
    "\n",
    "PF90 = mpiifort #mpif90 #   /opt/mpich2-intel-10.1/bin/mpif90\n",
    "WLDFLAGS = -mkl $(FOPT)  -L/usr/lib64 -pthread \n",
    "WLIBS = -mkl\n",
    "\n",
    "Fmpi_define = -DMPI\n",
    "CMP = f2py --fcompiler=intelem # fortran to python converter\n",
    "CMPLIBS = --opt='-fast' --link-lapack_opt\n",
    "CMPLIBS2 = --f90flags='-openmp ' --opt='-fast' --link-lapack_opt\n",
    "#PFLAGS = -D_MPI -DMPICH_IGNORE_CXX_SEEK -restrict -ipo -no-prec-div -O2\n",
    "GSL_INC=/home/uthpala/gsl/include/\n",
    "GSL_LIBS=/home/uthpala/gsl/lib\n",
    "PFLAGS = -D_MPI -DMPICH_IGNORE_CXX_SEEK -O3 -I$(GSL_INC) -I$(GSL_INC)/gsl\n",
    "#\n",
    "#\n",
    "# PC++ = /opt/mpich2/intel/11.1/bin/mpicxx -xHOST -O3 -ipo -no-prec-div  # mpicxx # parallel compilers\n",
    "PC++ = mpicxx\n",
    "pcc = mpicc # mpicc # parallel compilers\n",
    "#\n",
    "#PLIBS = -mkl -L/usr/lib64 -pthread -L/export/home/hyowon/Codes/gsl/lib/ -lgsl -lgslcblas\n",
    "PLIBS = -mkl -L$(MKLROOT)/lib/intel64 -lmkl_intel_lp64 -lmkl_sequential -lmkl_core -lpthread -L/usr/lib64 -pthread -L$(GSL_LIBS)/ -lgsl -lgslcblas\n",
    "LLIBS = -L$(MKLROOT)/lib/intel64 -lmkl_intel_lp64 -lmkl_sequential -lmkl_core -lpthread -L/usr/lib64 -pthread\n",
    "\n",
    "\n",
    "#-------------------- SINGLE PROCESSOR VERSION\n",
    "#PF90 = ifort\n",
    "#Fmpi_define = \n",
    "#CMP = f2py --fcompiler=intel # fortran to python converter\n",
    "#WLDFLAGS = $(FOPT) -L/opt/intel/mkl/10.0.011/lib/32 \n",
    "#WLIBS = -lmkl_lapack -lmkl -lguide -pthread\n",
    "#\n",
    "#PC++ = mpicxx # g++ # parallel compilers\n",
    "#pcc = gcc # parallel compilers\n",
    "#\n",
    "#PLIBS = -L/opt/intel/mkl/10.0.1.014/lib/32 -lmkl_lapack -lmkl -lguide -lgsl -pthread\n",
    "#LLIBS = -L/opt/intel/mkl/10.0.1.014/lib/32 -lmkl_lapack -lmkl -lguide -pthread\n"
   ]
  },
  {
   "cell_type": "markdown",
   "metadata": {},
   "source": [
    "### 3.Compile atomd\n",
    "\n",
    "atomd is the module to compute local atomic interactions for ctqmc.\n",
    "This part (and the ctqmc code) is written by Kristjan Haule (Rutgers).<br>\n",
    "**atom_d.py** will generate input files (**info_atom_d.dat**, **actqmc.cix**) for ctqmc run. This is already in the **/bin** directory. \n",
    "\n",
    "Compile."
   ]
  },
  {
   "cell_type": "code",
   "execution_count": null,
   "metadata": {},
   "outputs": [],
   "source": [
    ">make all"
   ]
  },
  {
   "cell_type": "markdown",
   "metadata": {},
   "source": [
    "Compiling gives the shared objects gaunt.so gutils.so which should be copied into the **/bin** directory."
   ]
  },
  {
   "cell_type": "markdown",
   "metadata": {},
   "source": [
    "### 4. Compile ctqmc \n",
    "\n",
    "This is the impurity solver used in the code. (Credits:Kristjan Haule)<br>\n",
    "Compile."
   ]
  },
  {
   "cell_type": "code",
   "execution_count": null,
   "metadata": {},
   "outputs": [],
   "source": [
    ">make all"
   ]
  },
  {
   "cell_type": "markdown",
   "metadata": {},
   "source": [
    "Copy the created executable **ctqmc** into the **/bin** directory."
   ]
  },
  {
   "cell_type": "markdown",
   "metadata": {},
   "source": [
    "## Running\n",
    "\n",
    "Now that you have compiled and copied the executables into the **/bin** directory, you are ready to run the program.\n",
    "\n",
    "Inside the **/runs** directory there is an example for LaNiO3. <br>\n",
    "\n",
    "\n"
   ]
  },
  {
   "cell_type": "markdown",
   "metadata": {},
   "source": [
    "Configure **INPUT.py**"
   ]
  },
  {
   "cell_type": "code",
   "execution_count": 6,
   "metadata": {},
   "outputs": [],
   "source": [
    "################   Input parameters for DFT+DMFT calculations   ##################\n",
    "\n",
    "###### Main loop parameters ###########\n",
    "\n",
    "p = {\"Niter\":     1,               # Number of DFT+DMFT iterations\n",
    "     \"Nit\":       5,               # Number of DMFT iterations\n",
    "     \"n_tot\":     19,            # Number of total electrons\n",
    "     \"nspin\":     1,            # Number of spins\n",
    "     \"atomnames\": ['V','O'],       # The name of atoms\"],\n",
    "     \"orbs\"     : ['d','p'],       # The name  of orbitals\n",
    "     \"L_rot\"     : [1,0],       # Whether rotate local axis or not\n",
    "     \"cor_at\":    [['V1']],      # Correlated atoms, put degenerate atoms in the same list\n",
    "     \"U\":         [5.0],        # Intra-U for each cor_at\n",
    "     \"J\":         [1.0],        # Hund's coupling\"],\n",
    "     \"Uprime\":    [4.8],        # Double counting U'\"],\n",
    "     \"cor_orb\":   [[['d_z2','d_x2y2'],['d_xz','d_yz','d_xy']]], # DMFT orbitals, other orbitals are treated by HF\"],\n",
    "     \"q\":         [20,20,20],       # [Nq_x,Nq_y,Nq_z]\"],\n",
    "     \"ewin\":      [-8,2.9],           # Energy Window\n",
    "     \"nom\":       6000,             # Number of Matsubara frequencies\"],\n",
    "     \"noms\":      1200,            # Number of Matsubara frequencies\"],\n",
    "     \"nomlog\":    30,             # Number of Matsubara frequencies\"],\n",
    "     \"Nforce\":    0,             # How many time force will be computed\"],\n",
    "     \"dc_type\":   1,             # dc type\"],\n",
    "     \"mu_iter\":   200,                # The chemical potential convergence step\"],\n",
    "     \"mix_sig\":   0.3,              # Mixing parameter for Sigma\"],\n",
    "     \"Nd_qmc\":    1,             # DMFT Nd values are obtained from QMC sampling\"],\n",
    "     \"print_at\":  ['V1'],     # The local Green functions are printed\"],\n",
    "     \"path_bin\":  \"~/Codes/WANDMFT/bin/\",     # Path to bin files\n",
    "     }\n",
    "\n",
    "##### VASP parameters ########\n",
    "pV = {\"System=\":     [\"LaNiO3\",       \"# The name of system\"],\n",
    "      \"ENCUT=\":      [600.0,                 \"# Energy cutoff\"], \n",
    "      \"ISPIN=\":      [1,               \"#ISPIN\"],\n",
    "      \"NBANDS=\":     [46,                     \"# LMAX\"],\n",
    "      \"LMAXMIX=\":    [4,             \"#LMAX\"],\n",
    "      \"ISMEAR=\":      [-4,                    \"# ISMEAR\"],\n",
    "      \"GGA=\":    [\"PS\",             \"#GGA\"],\n",
    "      \"ADDGRID=\":    [\".TRUE.\",             \"#GGA\"],\n",
    "      \"LWANNIER90=\":      [\".TRUE.\",                    \"# ISMEAR\"],\n",
    "     } \n",
    "\n",
    "##### CTQMC parameters #########\n",
    "pC = {\"exe\":         [\"ctqmc\",    \"# Path to executable\"],\n",
    "      \"Delta\":       [\"Delta.inp\",                 \" # Input bath function hybridization\"],\n",
    "      \"cix\":         [\"impurity.cix\",              \" # Input file with atomic state\"],\n",
    "      \"mu\":          [0,                           \" # Chemical potential\"],\n",
    "      \"beta\":        [100.0,                       \" # Inverse temperature\"],\n",
    "      \"M\" :          [12000000,                    \" # Number of Monte Carlo steps\"],\n",
    "      \"nom\":         [60,                          \" # number of Matsubara frequency points to sample\"],\n",
    "      \"Nmax\":        [1400,                        \" # maximal number of propagators\"],\n",
    "      \"Ntau\":        [1000,                        \" # Ntau\"],\n",
    "      \"SampleGtau\":  [1000,                        \" # Sample Gtau\"],\n",
    "      \"sderiv\":      [0.005,                       \" # maximal discripancy\"],\n",
    "      \"CleanUpdate\": [50000,                       \" # clean update after QMC steps\"],\n",
    "      \"aom\":         [8,                           \" # number of frequency points to determin high frequency tail\"],\n",
    "      \"warmup\":      [250000,                      \"  # Warmup\"],\n",
    "      \"GlobalFlip\":  [1000000,                      \"  # Global flip\"],\n",
    "      \"PChangeOrder\":[0.9,                         \"  # Probability to add/remove interval\"],\n",
    "      \"TwoKinks\":    [0.,                          \"  # Two kinks\"],\n",
    "      \"Ncout\":       [500000,                      \" # Ncout\"],\n",
    "      \"Naver\":       [80000000,                    \"  # Naver\"],\n",
    "      }\n",
    "############## CIX parameters ###########\n",
    "pD = {\"para=\"     : 1,\n",
    "      \"l=\"        : 2,\n",
    "      \"n=\"        : [6, 7, 8],\n",
    "      \"OCA_G=\"    : False,\n",
    "      \"CoulombF=\" : \"Ising\",\n",
    "      }"
   ]
  },
  {
   "cell_type": "markdown",
   "metadata": {},
   "source": [
    "**OPTIONAL**: Parallel Run<br>\n",
    "Set **para_com**=mpirun -np < number of processors> in **RUNDMFT.py**.\n",
    "\n",
    "Edit the VASP input files within INPUT.py as you wish. <br>\n",
    "It is important to set **LWANNIER90=.TRUE.** in the **INCAR** file. \n",
    "\n",
    "Do a regular DFT run to find the Fermi energy. It is in the OUTCAR. Create a file, **DFT_mu.out** and save the fermi energy in it. \n",
    "\n",
    "Finally, run the program with the following code. "
   ]
  },
  {
   "cell_type": "code",
   "execution_count": null,
   "metadata": {},
   "outputs": [],
   "source": [
    "> python RUNDMFT.py"
   ]
  },
  {
   "cell_type": "markdown",
   "metadata": {},
   "source": [
    "### Instructions to create inputs (INPUT.py)"
   ]
  },
  {
   "cell_type": "markdown",
   "metadata": {},
   "source": [
    "Let us work with an example, SrVO3.\n",
    "\n",
    "$V^{+4}$ has one electron in its d-shell. We will treat this electron using DMFT. \n",
    "\n",
    "Calculating the number of wannier bands:\n",
    "\n",
    "$V^{+4}$ electrons (d shell) = 1 <br>\n",
    "3 $O^{-2}$ electrons (p shell) = 3x6 <br>\n",
    "total number of electrons = 19 \n",
    "\n",
    "<br>\n",
    "To find the energy window, plot the bands of DFT using and determine the energy window of the correlated orbital."
   ]
  }
 ],
 "metadata": {
  "kernelspec": {
   "display_name": "Python 2",
   "language": "python",
   "name": "python2"
  },
  "language_info": {
   "codemirror_mode": {
    "name": "ipython",
    "version": 2
   },
   "file_extension": ".py",
   "mimetype": "text/x-python",
   "name": "python",
   "nbconvert_exporter": "python",
   "pygments_lexer": "ipython2",
   "version": "2.7.10"
  }
 },
 "nbformat": 4,
 "nbformat_minor": 2
}
